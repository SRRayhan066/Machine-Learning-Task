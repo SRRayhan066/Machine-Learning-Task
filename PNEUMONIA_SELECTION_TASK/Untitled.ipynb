{
 "cells": [
  {
   "cell_type": "markdown",
   "id": "e3a42b11",
   "metadata": {},
   "source": [
    "# Import all the neccessary things"
   ]
  },
  {
   "cell_type": "code",
   "execution_count": 2,
   "id": "1d4780b8",
   "metadata": {},
   "outputs": [],
   "source": [
    "import tensorflow as tf\n",
    "from tensorflow.keras.models import Sequential\n",
    "from tensorflow.keras.layers import Conv2D, MaxPooling2D, Flatten, Dense\n",
    "import matplotlib.pyplot as plt"
   ]
  },
  {
   "cell_type": "markdown",
   "id": "990875f6",
   "metadata": {},
   "source": [
    "# Load the dataset"
   ]
  },
  {
   "cell_type": "code",
   "execution_count": 4,
   "id": "011b0287",
   "metadata": {},
   "outputs": [
    {
     "name": "stdout",
     "output_type": "stream",
     "text": [
      "Found 5216 images belonging to 2 classes.\n",
      "Found 624 images belonging to 2 classes.\n",
      "Found 16 images belonging to 2 classes.\n"
     ]
    }
   ],
   "source": [
    "X_trainPath = 'C:/Users/H P/Desktop/Archive/train'\n",
    "X_testPath = 'C:/Users/H P/Desktop/Archive/test'\n",
    "X_valPath = 'C:/Users/H P/Desktop/Archive/val'\n",
    "\n",
    "image_datagen = tf.keras.preprocessing.image.ImageDataGenerator(rescale=1./255)\n",
    "\n",
    "ds_train = image_datagen.flow_from_directory(\n",
    "    X_trainPath,\n",
    "    target_size=(100, 100),  # Adjust target_size based on your model architecture\n",
    "    batch_size=32,\n",
    "    class_mode='binary'\n",
    ")\n",
    "\n",
    "ds_test = image_datagen.flow_from_directory(\n",
    "    X_testPath,\n",
    "    target_size=(100, 100),  # Adjust target_size based on your model architecture\n",
    "    batch_size=32,\n",
    "    class_mode='binary'\n",
    ")\n",
    "\n",
    "ds_val = image_datagen.flow_from_directory(\n",
    "    X_valPath,\n",
    "    target_size=(100, 100),  # Adjust target_size based on your model architecture\n",
    "    batch_size=32,\n",
    "    class_mode='binary'\n",
    ")"
   ]
  },
  {
   "cell_type": "markdown",
   "id": "e4c4bd22",
   "metadata": {},
   "source": [
    "# Check the images with it"
   ]
  },
  {
   "cell_type": "code",
   "execution_count": null,
   "id": "0977d123",
   "metadata": {},
   "outputs": [],
   "source": []
  }
 ],
 "metadata": {
  "kernelspec": {
   "display_name": "Python 3 (ipykernel)",
   "language": "python",
   "name": "python3"
  },
  "language_info": {
   "codemirror_mode": {
    "name": "ipython",
    "version": 3
   },
   "file_extension": ".py",
   "mimetype": "text/x-python",
   "name": "python",
   "nbconvert_exporter": "python",
   "pygments_lexer": "ipython3",
   "version": "3.11.5"
  }
 },
 "nbformat": 4,
 "nbformat_minor": 5
}
