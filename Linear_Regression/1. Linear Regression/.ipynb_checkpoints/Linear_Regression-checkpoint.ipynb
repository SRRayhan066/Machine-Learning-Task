{
 "cells": [
  {
   "cell_type": "markdown",
   "metadata": {
    "id": "z7EfrsmVQe3H"
   },
   "source": [
    "### **Univariate Linear Regression**"
   ]
  },
  {
   "cell_type": "code",
   "execution_count": 1,
   "metadata": {
    "colab": {
     "base_uri": "https://localhost:8080/"
    },
    "id": "_EZy_OwB7v3t",
    "outputId": "9fc00541-c367-4a3f-8fe9-bf653d6102f8"
   },
   "outputs": [
    {
     "ename": "ModuleNotFoundError",
     "evalue": "No module named 'google.colab'",
     "output_type": "error",
     "traceback": [
      "\u001b[1;31m---------------------------------------------------------------------------\u001b[0m",
      "\u001b[1;31mModuleNotFoundError\u001b[0m                       Traceback (most recent call last)",
      "Cell \u001b[1;32mIn[1], line 8\u001b[0m\n\u001b[0;32m      5\u001b[0m \u001b[38;5;28;01mimport\u001b[39;00m \u001b[38;5;21;01mseaborn\u001b[39;00m \u001b[38;5;28;01mas\u001b[39;00m \u001b[38;5;21;01msns\u001b[39;00m\n\u001b[0;32m      6\u001b[0m \u001b[38;5;66;03m# from google.colab import files\u001b[39;00m\n\u001b[0;32m      7\u001b[0m \u001b[38;5;66;03m# uploaded = files.upload()\u001b[39;00m\n\u001b[1;32m----> 8\u001b[0m \u001b[38;5;28;01mfrom\u001b[39;00m \u001b[38;5;21;01mgoogle\u001b[39;00m\u001b[38;5;21;01m.\u001b[39;00m\u001b[38;5;21;01mcolab\u001b[39;00m \u001b[38;5;28;01mimport\u001b[39;00m drive\n\u001b[0;32m      9\u001b[0m drive\u001b[38;5;241m.\u001b[39mmount(\u001b[38;5;124m'\u001b[39m\u001b[38;5;124m/content/drive\u001b[39m\u001b[38;5;124m'\u001b[39m)\n",
      "\u001b[1;31mModuleNotFoundError\u001b[0m: No module named 'google.colab'"
     ]
    }
   ],
   "source": [
    "import pandas as pd\n",
    "import matplotlib.pyplot as plt\n",
    "import csv\n",
    "import numpy as np\n",
    "import seaborn as sns\n",
    "# from google.colab import files\n",
    "# uploaded = files.upload()\n",
    "from google.colab import drive\n",
    "drive.mount('/content/drive')"
   ]
  },
  {
   "cell_type": "code",
   "execution_count": null,
   "metadata": {
    "colab": {
     "base_uri": "https://localhost:8080/",
     "height": 206
    },
    "id": "MdPyt-0W9i_W",
    "outputId": "481f6580-2ec7-4700-a4f9-2e38727c4b47"
   },
   "outputs": [],
   "source": [
    "data = pd.read_csv('/content/drive/MyDrive/Dummy-Dataset/House_Rent_Dataset.csv')\n",
    "data.head()"
   ]
  },
  {
   "cell_type": "code",
   "execution_count": null,
   "metadata": {
    "colab": {
     "base_uri": "https://localhost:8080/"
    },
    "id": "GfJCR6i4-CCS",
    "outputId": "2fc9be69-7d2f-4fb2-b551-1741d6b72e1a"
   },
   "outputs": [],
   "source": [
    "data.shape"
   ]
  },
  {
   "cell_type": "code",
   "execution_count": null,
   "metadata": {
    "id": "yscwHH17-IYb"
   },
   "outputs": [],
   "source": [
    "X = data['size'].values\n",
    "Y = data['price'].values"
   ]
  },
  {
   "cell_type": "code",
   "execution_count": null,
   "metadata": {
    "id": "AVoy9-UA-TCw"
   },
   "outputs": [],
   "source": [
    "mean_X = np.mean(X)\n",
    "mean_Y = np.mean(Y)"
   ]
  },
  {
   "cell_type": "code",
   "execution_count": null,
   "metadata": {
    "colab": {
     "base_uri": "https://localhost:8080/"
    },
    "id": "tbePU14X-X6D",
    "outputId": "c58768b3-99e5-44bb-fb66-5a118b1149a4"
   },
   "outputs": [],
   "source": [
    "A = 0\n",
    "B = 0\n",
    "for i in range(len(X)):\n",
    "  A += (X[i] - mean_X) * (Y[i] - mean_Y)\n",
    "  B += (X[i] - mean_X) ** 2\n",
    "\n",
    "m = A / B\n",
    "c = mean_Y - (m * mean_X)\n",
    "\n",
    "print(m, c)"
   ]
  },
  {
   "cell_type": "code",
   "execution_count": null,
   "metadata": {
    "colab": {
     "base_uri": "https://localhost:8080/",
     "height": 334
    },
    "id": "W9hjjSFnDzr7",
    "outputId": "2d67385b-dbe7-44d2-eea1-2ba0e39ef687"
   },
   "outputs": [],
   "source": [
    "plt.rcParams['figure.figsize'] = (10.0, 5.0)\n",
    "\n",
    "max_x = np.max(X) + 100\n",
    "min_x = np.min(X) - 100\n",
    "\n",
    "x = np.linspace(min_x, max_x, 1000)\n",
    "y = m * x + c\n",
    "\n",
    "plt.plot(x, y, color='#58b970', label='Regression Line')\n",
    "plt.scatter(X, Y, c = \"#ef5423\", label = 'Scatter Plot')\n",
    "\n",
    "plt.xlabel('House Size')\n",
    "plt.ylabel('Price')\n",
    "plt.legend()\n",
    "plt.show()"
   ]
  },
  {
   "cell_type": "markdown",
   "metadata": {
    "id": "D3OjqFvzVdOT"
   },
   "source": [
    "### **Gradient Descent**\n"
   ]
  },
  {
   "cell_type": "code",
   "execution_count": null,
   "metadata": {
    "colab": {
     "base_uri": "https://localhost:8080/",
     "height": 283
    },
    "id": "fhpdcZKoVrkv",
    "outputId": "464f0415-8f42-40f8-9910-13d9a1dba71d"
   },
   "outputs": [],
   "source": [
    "thetas = []\n",
    "costs = []\n",
    "\n",
    "m = len(X)\n",
    "epoch = 100\n",
    "# learning_rate_1 = 0.0000001\n",
    "learning_rate = 0.1\n",
    "theta_0 = 0\n",
    "theta_1 = 0.5425615384615384\n",
    "\n",
    "for i in range(epoch):\n",
    "  temp_0 = 0\n",
    "  temp_1 = 0\n",
    "  for j in range(m):\n",
    "    temp_0 += (theta_0 + theta_1*X[j] - Y[j])\n",
    "    # temp_1 += (theta_0 + theta_1*X[j] - Y[j]) * X[j]\n",
    "  \n",
    "  theta_0 = theta_0 - learning_rate * (temp_0) / m\n",
    "  # theta_1 = theta_1 - learning_rate_1 * (temp_1) / m\n",
    "\n",
    "  thetas.append(theta_0)\n",
    "  sum = 0\n",
    "  for k in range(m):\n",
    "    sum_ = (theta_0 + theta_1*X[k] - Y[k]) * ((theta_0 + theta_1*X[k] - Y[k]))\n",
    "  cost = sum_ / (2 * m)\n",
    "  costs.append(cost)\n",
    "\n",
    "  # print('Theta 0 : ' , theta_0)\n",
    "  # print('Theta 1 : ' ,theta_1)\n",
    "\n",
    "print(theta_0, theta_1)\n",
    "\n",
    "plt.scatter(thetas, costs, c = \"#ef5423\", label = 'Scatter Plot')\n",
    "plt.show()"
   ]
  },
  {
   "cell_type": "markdown",
   "metadata": {
    "id": "7nPBwI7L89Yi"
   },
   "source": [
    "### **Gradient Descent with 4k+ data**"
   ]
  },
  {
   "cell_type": "code",
   "execution_count": null,
   "metadata": {
    "colab": {
     "base_uri": "https://localhost:8080/",
     "height": 206
    },
    "id": "e1TjX6Xu9F18",
    "outputId": "73b74402-edd6-4646-e157-fa2406b5a5b1"
   },
   "outputs": [],
   "source": [
    "data = pd.read_csv('/content/drive/MyDrive/Dummy-Dataset/4K_House_Rent_Dataset.csv')\n",
    "data.head()"
   ]
  },
  {
   "cell_type": "code",
   "execution_count": null,
   "metadata": {
    "colab": {
     "base_uri": "https://localhost:8080/"
    },
    "id": "nWBXm9ph-y-U",
    "outputId": "075f1e9f-83bf-4773-d245-a5e50199cffb"
   },
   "outputs": [],
   "source": [
    "data.shape"
   ]
  },
  {
   "cell_type": "code",
   "execution_count": null,
   "metadata": {
    "colab": {
     "base_uri": "https://localhost:8080/",
     "height": 308
    },
    "id": "CpHdQxQrmmce",
    "outputId": "df57d147-c711-4014-801f-8b0c35b58fb1"
   },
   "outputs": [],
   "source": [
    "X = data['Size']\n",
    "Y = data['Rent']\n",
    "\n",
    "m = len(X)\n",
    "epoch = 1000\n",
    "learning_rate = 0.0000001\n",
    "theta_0 = 0\n",
    "theta_1 = 0\n",
    "\n",
    "for i in range(epoch):\n",
    "  temp_0 = 0\n",
    "  temp_1 = 0\n",
    "  for j in range(m):\n",
    "    temp_0 += (theta_0 + theta_1*X[j] - Y[j])\n",
    "    temp_1 += (theta_0 + theta_1*X[j] - Y[j]) * X[j]\n",
    "  \n",
    "  theta_0 = theta_0 - learning_rate * (temp_0) / m\n",
    "  theta_1 = theta_1 - learning_rate * (temp_1) / m\n",
    "\n",
    "  sum = 0\n",
    "  for k in range(m):\n",
    "    sum_ = (theta_0 + theta_1*X[k] - Y[k]) * ((theta_0 + theta_1*X[k] - Y[k]))\n",
    "  cost = sum_ / (2 * m)\n",
    "\n",
    "  # print(theta_0, theta_1)\n",
    "\n",
    "\n",
    "# Plotting Data\n",
    "max_x = np.max(X) + 100\n",
    "min_x = np.min(X) - 100\n",
    "\n",
    "x = np.linspace(min_x, max_x, 1000)\n",
    "y = theta_1 * x + theta_0\n",
    "\n",
    "plt.plot(x, y, color='#58b970', label='Regression Line')\n",
    "plt.scatter(X, Y, c = \"#ef5423\", label = 'Scatter Plot')\n",
    "\n",
    "print(theta_0, theta_1)\n",
    "\n",
    "plt.xlabel('House Size')\n",
    "plt.ylabel('Price')\n",
    "plt.legend()\n",
    "plt.show()"
   ]
  },
  {
   "cell_type": "markdown",
   "metadata": {
    "id": "B3AnhyzRsv8m"
   },
   "source": [
    "## **Normal Equation (using the Dataset used in 1st section : Univariate Linear Regression:)**"
   ]
  },
  {
   "cell_type": "code",
   "execution_count": null,
   "metadata": {
    "id": "L9Jd8HEns2c2"
   },
   "outputs": [],
   "source": [
    "import pandas as pd\n",
    "import matplotlib.pyplot as plt\n",
    "import csv\n",
    "import numpy as np\n",
    "import seaborn as sns"
   ]
  },
  {
   "cell_type": "code",
   "execution_count": null,
   "metadata": {
    "colab": {
     "base_uri": "https://localhost:8080/"
    },
    "id": "mKOWQN5zwSNG",
    "outputId": "1fa69d40-4962-4ea5-baf2-5274dfc70d1c"
   },
   "outputs": [],
   "source": [
    "X = np.array([[1, 2000], [1, 2100], [1, 1100], [1, 2200], [1, 1000]])\n",
    "S = np.matmul(X.T, X)\n",
    "S"
   ]
  },
  {
   "cell_type": "code",
   "execution_count": null,
   "metadata": {
    "colab": {
     "base_uri": "https://localhost:8080/"
    },
    "id": "-N8O_NhdwiBV",
    "outputId": "48af3d1e-8814-499d-f1cd-85a36b2acd6c"
   },
   "outputs": [],
   "source": [
    "Y = np.array([[810], [907], [312], [950], [301]])\n",
    "P = np.matmul(X.T, Y)\n",
    "P"
   ]
  },
  {
   "cell_type": "code",
   "execution_count": null,
   "metadata": {
    "colab": {
     "base_uri": "https://localhost:8080/"
    },
    "id": "SRUEfUz4w_b9",
    "outputId": "38565f33-4a15-40ef-ccbe-7ce6e1177839"
   },
   "outputs": [],
   "source": [
    "from numpy.linalg import inv\n",
    "S = inv(S)\n",
    "S"
   ]
  },
  {
   "cell_type": "code",
   "execution_count": null,
   "metadata": {
    "id": "5q02zDNNxLD8"
   },
   "outputs": [],
   "source": [
    "theta = np.matmul(S, P)"
   ]
  },
  {
   "cell_type": "code",
   "execution_count": null,
   "metadata": {
    "colab": {
     "base_uri": "https://localhost:8080/"
    },
    "id": "N9XOpdIyyHp5",
    "outputId": "cc3ff499-ffb0-4ff4-9f9f-953cc7b7b8fc"
   },
   "outputs": [],
   "source": [
    "theta"
   ]
  },
  {
   "cell_type": "code",
   "execution_count": null,
   "metadata": {
    "id": "Z50ogdbWyIlD"
   },
   "outputs": [],
   "source": []
  }
 ],
 "metadata": {
  "colab": {
   "provenance": []
  },
  "kernelspec": {
   "display_name": "Python 3 (ipykernel)",
   "language": "python",
   "name": "python3"
  },
  "language_info": {
   "codemirror_mode": {
    "name": "ipython",
    "version": 3
   },
   "file_extension": ".py",
   "mimetype": "text/x-python",
   "name": "python",
   "nbconvert_exporter": "python",
   "pygments_lexer": "ipython3",
   "version": "3.11.5"
  }
 },
 "nbformat": 4,
 "nbformat_minor": 1
}
